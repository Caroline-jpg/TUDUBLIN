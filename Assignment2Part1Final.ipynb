{
 "cells": [
  {
   "cell_type": "code",
   "execution_count": 7,
   "metadata": {},
   "outputs": [],
   "source": [
    "#Analysis of TED Talks and what makes them effective \n",
    "\n",
    "\n",
    "#Import the below installed packages \n",
    "import pandas as pd\n",
    "import matplotlib.pyplot as plt\n",
    "import seaborn as sns\n",
    "import numpy as np"
   ]
  },
  {
   "cell_type": "code",
   "execution_count": 8,
   "metadata": {},
   "outputs": [],
   "source": [
    "#Load Provided Datasets to analyse and store in below dataframes \n",
    "\n",
    "Ratings = pd.read_csv(\"ratings.csv\")\n",
    "Talk_Ratings = pd.read_csv(\"talk_ratings.csv\")\n",
    "Ted = pd.read_csv('ted.csv')\n",
    "Tags = pd.read_csv(\"ted_tags.csv\")"
   ]
  },
  {
   "cell_type": "code",
   "execution_count": 9,
   "metadata": {},
   "outputs": [
    {
     "name": "stdout",
     "output_type": "stream",
     "text": [
      "        Unnamed: 0     comments     duration     film_date    languages  \\\n",
      "count  2550.000000  2550.000000  2550.000000  2.550000e+03  2550.000000   \n",
      "mean   1275.500000   191.562353   826.510196  1.321928e+09    27.326275   \n",
      "std     736.265917   282.315223   374.009138  1.197391e+08     9.563452   \n",
      "min       1.000000     2.000000   135.000000  7.464960e+07     0.000000   \n",
      "25%     638.250000    63.000000   577.000000  1.257466e+09    23.000000   \n",
      "50%    1275.500000   118.000000   848.000000  1.333238e+09    28.000000   \n",
      "75%    1912.750000   221.750000  1046.750000  1.412964e+09    33.000000   \n",
      "max    2550.000000  6404.000000  5256.000000  1.503792e+09    72.000000   \n",
      "\n",
      "       num_speaker  published_date         views  \n",
      "count  2550.000000    2.550000e+03  2.550000e+03  \n",
      "mean      1.028235    1.343525e+09  1.698297e+06  \n",
      "std       0.207705    9.464009e+07  2.498479e+06  \n",
      "min       1.000000    1.151367e+09  5.044300e+04  \n",
      "25%       1.000000    1.268463e+09  7.557928e+05  \n",
      "50%       1.000000    1.340935e+09  1.124524e+06  \n",
      "75%       1.000000    1.423432e+09  1.700760e+06  \n",
      "max       5.000000    1.506092e+09  4.722711e+07  \n",
      "              id\n",
      "count  14.000000\n",
      "mean   13.714286\n",
      "std     9.310280\n",
      "min     1.000000\n",
      "25%     7.250000\n",
      "50%    10.500000\n",
      "75%    22.750000\n",
      "max    26.000000\n",
      "                 id         count\n",
      "count  35700.000000  35700.000000\n",
      "mean      13.714286    174.029160\n",
      "std        8.971736    539.080626\n",
      "min        1.000000      0.000000\n",
      "25%        7.000000     17.000000\n",
      "50%       10.500000     50.000000\n",
      "75%       23.000000    158.000000\n",
      "max       26.000000  24924.000000\n",
      "         Unnamed: 0\n",
      "count  19154.000000\n",
      "mean    9577.500000\n",
      "std     5529.427864\n",
      "min        1.000000\n",
      "25%     4789.250000\n",
      "50%     9577.500000\n",
      "75%    14365.750000\n",
      "max    19154.000000\n"
     ]
    }
   ],
   "source": [
    "#Get Familar with datasets and summary statistics of contents contained in each one\n",
    "\n",
    "print(Ted.describe())\n",
    "print(Ratings.describe())\n",
    "print(Talk_Ratings.describe())\n",
    "print(Tags.describe())"
   ]
  },
  {
   "cell_type": "code",
   "execution_count": 106,
   "metadata": {},
   "outputs": [
    {
     "data": {
      "text/html": [
       "<div>\n",
       "<style scoped>\n",
       "    .dataframe tbody tr th:only-of-type {\n",
       "        vertical-align: middle;\n",
       "    }\n",
       "\n",
       "    .dataframe tbody tr th {\n",
       "        vertical-align: top;\n",
       "    }\n",
       "\n",
       "    .dataframe thead th {\n",
       "        text-align: right;\n",
       "    }\n",
       "</style>\n",
       "<table border=\"1\" class=\"dataframe\">\n",
       "  <thead>\n",
       "    <tr style=\"text-align: right;\">\n",
       "      <th></th>\n",
       "      <th>Unnamed: 0</th>\n",
       "      <th>comments</th>\n",
       "      <th>description</th>\n",
       "      <th>duration</th>\n",
       "      <th>event</th>\n",
       "      <th>film_date</th>\n",
       "      <th>languages</th>\n",
       "      <th>main_speaker</th>\n",
       "      <th>name</th>\n",
       "      <th>num_speaker</th>\n",
       "      <th>published_date</th>\n",
       "      <th>speaker_occupation</th>\n",
       "      <th>title</th>\n",
       "      <th>url</th>\n",
       "      <th>views</th>\n",
       "      <th>dis_quo</th>\n",
       "      <th>year</th>\n",
       "      <th>month</th>\n",
       "    </tr>\n",
       "  </thead>\n",
       "  <tbody>\n",
       "    <tr>\n",
       "      <th>0</th>\n",
       "      <td>1</td>\n",
       "      <td>4553</td>\n",
       "      <td>Sir Ken Robinson makes an entertaining and pro...</td>\n",
       "      <td>1164</td>\n",
       "      <td>TED2006</td>\n",
       "      <td>2006-02-25</td>\n",
       "      <td>60</td>\n",
       "      <td>Ken Robinson</td>\n",
       "      <td>Ken Robinson: Do schools kill creativity?</td>\n",
       "      <td>1</td>\n",
       "      <td>2006-06-27 00:11:00</td>\n",
       "      <td>Author/educator</td>\n",
       "      <td>Do schools kill creativity?</td>\n",
       "      <td>https://www.ted.com/talks/ken_robinson_says_sc...</td>\n",
       "      <td>47227110</td>\n",
       "      <td>0.000096</td>\n",
       "      <td>2006</td>\n",
       "      <td>6</td>\n",
       "    </tr>\n",
       "    <tr>\n",
       "      <th>1346</th>\n",
       "      <td>1347</td>\n",
       "      <td>2290</td>\n",
       "      <td>Body language affects how others see us, but i...</td>\n",
       "      <td>1262</td>\n",
       "      <td>TEDGlobal 2012</td>\n",
       "      <td>2012-06-26</td>\n",
       "      <td>51</td>\n",
       "      <td>Amy Cuddy</td>\n",
       "      <td>Amy Cuddy: Your body language may shape who yo...</td>\n",
       "      <td>1</td>\n",
       "      <td>2012-10-01 15:00:08</td>\n",
       "      <td>Social psychologist</td>\n",
       "      <td>Your body language may shape who you are</td>\n",
       "      <td>https://www.ted.com/talks/amy_cuddy_your_body_...</td>\n",
       "      <td>43155405</td>\n",
       "      <td>0.000053</td>\n",
       "      <td>2012</td>\n",
       "      <td>10</td>\n",
       "    </tr>\n",
       "    <tr>\n",
       "      <th>677</th>\n",
       "      <td>678</td>\n",
       "      <td>1930</td>\n",
       "      <td>Simon Sinek has a simple but powerful model fo...</td>\n",
       "      <td>1084</td>\n",
       "      <td>TEDxPuget Sound</td>\n",
       "      <td>2009-09-17</td>\n",
       "      <td>45</td>\n",
       "      <td>Simon Sinek</td>\n",
       "      <td>Simon Sinek: How great leaders inspire action</td>\n",
       "      <td>1</td>\n",
       "      <td>2010-05-04 09:31:00</td>\n",
       "      <td>Leadership expert</td>\n",
       "      <td>How great leaders inspire action</td>\n",
       "      <td>https://www.ted.com/talks/simon_sinek_how_grea...</td>\n",
       "      <td>34309432</td>\n",
       "      <td>0.000056</td>\n",
       "      <td>2010</td>\n",
       "      <td>5</td>\n",
       "    </tr>\n",
       "    <tr>\n",
       "      <th>837</th>\n",
       "      <td>838</td>\n",
       "      <td>1927</td>\n",
       "      <td>Brené Brown studies human connection -- our ab...</td>\n",
       "      <td>1219</td>\n",
       "      <td>TEDxHouston</td>\n",
       "      <td>2010-06-06</td>\n",
       "      <td>52</td>\n",
       "      <td>Brené Brown</td>\n",
       "      <td>Brené Brown: The power of vulnerability</td>\n",
       "      <td>1</td>\n",
       "      <td>2010-12-23 14:45:00</td>\n",
       "      <td>Vulnerability researcher</td>\n",
       "      <td>The power of vulnerability</td>\n",
       "      <td>https://www.ted.com/talks/brene_brown_on_vulne...</td>\n",
       "      <td>31168150</td>\n",
       "      <td>0.000062</td>\n",
       "      <td>2010</td>\n",
       "      <td>12</td>\n",
       "    </tr>\n",
       "    <tr>\n",
       "      <th>452</th>\n",
       "      <td>453</td>\n",
       "      <td>354</td>\n",
       "      <td>\"Bonk\" author Mary Roach delves into obscure s...</td>\n",
       "      <td>1003</td>\n",
       "      <td>TED2009</td>\n",
       "      <td>2009-02-06</td>\n",
       "      <td>37</td>\n",
       "      <td>Mary Roach</td>\n",
       "      <td>Mary Roach: 10 things you didn't know about or...</td>\n",
       "      <td>1</td>\n",
       "      <td>2009-05-20 01:00:00</td>\n",
       "      <td>Writer</td>\n",
       "      <td>10 things you didn't know about orgasm</td>\n",
       "      <td>https://www.ted.com/talks/mary_roach_10_things...</td>\n",
       "      <td>22270883</td>\n",
       "      <td>0.000016</td>\n",
       "      <td>2009</td>\n",
       "      <td>5</td>\n",
       "    </tr>\n",
       "    <tr>\n",
       "      <th>1776</th>\n",
       "      <td>1777</td>\n",
       "      <td>297</td>\n",
       "      <td>Have you ever felt like you're talking, but no...</td>\n",
       "      <td>598</td>\n",
       "      <td>TEDGlobal 2013</td>\n",
       "      <td>2013-06-10</td>\n",
       "      <td>45</td>\n",
       "      <td>Julian Treasure</td>\n",
       "      <td>Julian Treasure: How to speak so that people w...</td>\n",
       "      <td>1</td>\n",
       "      <td>2014-06-27 14:38:17</td>\n",
       "      <td>Sound consultant</td>\n",
       "      <td>How to speak so that people want to listen</td>\n",
       "      <td>https://www.ted.com/talks/julian_treasure_how_...</td>\n",
       "      <td>21594632</td>\n",
       "      <td>0.000014</td>\n",
       "      <td>2014</td>\n",
       "      <td>6</td>\n",
       "    </tr>\n",
       "    <tr>\n",
       "      <th>201</th>\n",
       "      <td>202</td>\n",
       "      <td>2877</td>\n",
       "      <td>Jill Bolte Taylor got a research opportunity f...</td>\n",
       "      <td>1099</td>\n",
       "      <td>TED2008</td>\n",
       "      <td>2008-02-27</td>\n",
       "      <td>49</td>\n",
       "      <td>Jill Bolte Taylor</td>\n",
       "      <td>Jill Bolte Taylor: My stroke of insight</td>\n",
       "      <td>1</td>\n",
       "      <td>2008-03-12 01:10:00</td>\n",
       "      <td>Neuroanatomist</td>\n",
       "      <td>My stroke of insight</td>\n",
       "      <td>https://www.ted.com/talks/jill_bolte_taylor_s_...</td>\n",
       "      <td>21190883</td>\n",
       "      <td>0.000136</td>\n",
       "      <td>2008</td>\n",
       "      <td>3</td>\n",
       "    </tr>\n",
       "    <tr>\n",
       "      <th>5</th>\n",
       "      <td>6</td>\n",
       "      <td>672</td>\n",
       "      <td>Tony Robbins discusses the \"invisible forces\" ...</td>\n",
       "      <td>1305</td>\n",
       "      <td>TED2006</td>\n",
       "      <td>2006-02-02</td>\n",
       "      <td>36</td>\n",
       "      <td>Tony Robbins</td>\n",
       "      <td>Tony Robbins: Why we do what we do</td>\n",
       "      <td>1</td>\n",
       "      <td>2006-06-27 20:38:00</td>\n",
       "      <td>Life coach; expert in leadership psychology</td>\n",
       "      <td>Why we do what we do</td>\n",
       "      <td>https://www.ted.com/talks/tony_robbins_asks_wh...</td>\n",
       "      <td>20685401</td>\n",
       "      <td>0.000032</td>\n",
       "      <td>2006</td>\n",
       "      <td>6</td>\n",
       "    </tr>\n",
       "    <tr>\n",
       "      <th>2114</th>\n",
       "      <td>2115</td>\n",
       "      <td>150</td>\n",
       "      <td>Suspicious emails: unclaimed insurance bonds, ...</td>\n",
       "      <td>588</td>\n",
       "      <td>TEDGlobal&gt;Geneva</td>\n",
       "      <td>2015-12-08</td>\n",
       "      <td>43</td>\n",
       "      <td>James Veitch</td>\n",
       "      <td>James Veitch: This is what happens when you re...</td>\n",
       "      <td>1</td>\n",
       "      <td>2016-01-08 16:03:40</td>\n",
       "      <td>Comedian and writer</td>\n",
       "      <td>This is what happens when you reply to spam email</td>\n",
       "      <td>https://www.ted.com/talks/james_veitch_this_is...</td>\n",
       "      <td>20475972</td>\n",
       "      <td>0.000007</td>\n",
       "      <td>2016</td>\n",
       "      <td>1</td>\n",
       "    </tr>\n",
       "    <tr>\n",
       "      <th>1416</th>\n",
       "      <td>1417</td>\n",
       "      <td>846</td>\n",
       "      <td>Cameron Russell admits she won “a genetic lott...</td>\n",
       "      <td>577</td>\n",
       "      <td>TEDxMidAtlantic</td>\n",
       "      <td>2012-10-27</td>\n",
       "      <td>43</td>\n",
       "      <td>Cameron Russell</td>\n",
       "      <td>Cameron Russell: Looks aren't everything. Beli...</td>\n",
       "      <td>1</td>\n",
       "      <td>2013-01-16 16:05:54</td>\n",
       "      <td>Model</td>\n",
       "      <td>Looks aren't everything. Believe me, I'm a model.</td>\n",
       "      <td>https://www.ted.com/talks/cameron_russell_look...</td>\n",
       "      <td>19787465</td>\n",
       "      <td>0.000043</td>\n",
       "      <td>2013</td>\n",
       "      <td>1</td>\n",
       "    </tr>\n",
       "  </tbody>\n",
       "</table>\n",
       "</div>"
      ],
      "text/plain": [
       "      Unnamed: 0  comments                                        description  \\\n",
       "0              1      4553  Sir Ken Robinson makes an entertaining and pro...   \n",
       "1346        1347      2290  Body language affects how others see us, but i...   \n",
       "677          678      1930  Simon Sinek has a simple but powerful model fo...   \n",
       "837          838      1927  Brené Brown studies human connection -- our ab...   \n",
       "452          453       354  \"Bonk\" author Mary Roach delves into obscure s...   \n",
       "1776        1777       297  Have you ever felt like you're talking, but no...   \n",
       "201          202      2877  Jill Bolte Taylor got a research opportunity f...   \n",
       "5              6       672  Tony Robbins discusses the \"invisible forces\" ...   \n",
       "2114        2115       150  Suspicious emails: unclaimed insurance bonds, ...   \n",
       "1416        1417       846  Cameron Russell admits she won “a genetic lott...   \n",
       "\n",
       "      duration             event  film_date  languages       main_speaker  \\\n",
       "0         1164           TED2006 2006-02-25         60       Ken Robinson   \n",
       "1346      1262    TEDGlobal 2012 2012-06-26         51          Amy Cuddy   \n",
       "677       1084  TEDxPuget Sound  2009-09-17         45        Simon Sinek   \n",
       "837       1219       TEDxHouston 2010-06-06         52        Brené Brown   \n",
       "452       1003           TED2009 2009-02-06         37         Mary Roach   \n",
       "1776       598    TEDGlobal 2013 2013-06-10         45    Julian Treasure   \n",
       "201       1099           TED2008 2008-02-27         49  Jill Bolte Taylor   \n",
       "5         1305           TED2006 2006-02-02         36       Tony Robbins   \n",
       "2114       588  TEDGlobal>Geneva 2015-12-08         43       James Veitch   \n",
       "1416       577   TEDxMidAtlantic 2012-10-27         43    Cameron Russell   \n",
       "\n",
       "                                                   name  num_speaker  \\\n",
       "0             Ken Robinson: Do schools kill creativity?            1   \n",
       "1346  Amy Cuddy: Your body language may shape who yo...            1   \n",
       "677       Simon Sinek: How great leaders inspire action            1   \n",
       "837             Brené Brown: The power of vulnerability            1   \n",
       "452   Mary Roach: 10 things you didn't know about or...            1   \n",
       "1776  Julian Treasure: How to speak so that people w...            1   \n",
       "201             Jill Bolte Taylor: My stroke of insight            1   \n",
       "5                    Tony Robbins: Why we do what we do            1   \n",
       "2114  James Veitch: This is what happens when you re...            1   \n",
       "1416  Cameron Russell: Looks aren't everything. Beli...            1   \n",
       "\n",
       "          published_date                           speaker_occupation  \\\n",
       "0    2006-06-27 00:11:00                              Author/educator   \n",
       "1346 2012-10-01 15:00:08                          Social psychologist   \n",
       "677  2010-05-04 09:31:00                            Leadership expert   \n",
       "837  2010-12-23 14:45:00                     Vulnerability researcher   \n",
       "452  2009-05-20 01:00:00                                       Writer   \n",
       "1776 2014-06-27 14:38:17                             Sound consultant   \n",
       "201  2008-03-12 01:10:00                               Neuroanatomist   \n",
       "5    2006-06-27 20:38:00  Life coach; expert in leadership psychology   \n",
       "2114 2016-01-08 16:03:40                          Comedian and writer   \n",
       "1416 2013-01-16 16:05:54                                        Model   \n",
       "\n",
       "                                                  title  \\\n",
       "0                           Do schools kill creativity?   \n",
       "1346           Your body language may shape who you are   \n",
       "677                    How great leaders inspire action   \n",
       "837                          The power of vulnerability   \n",
       "452              10 things you didn't know about orgasm   \n",
       "1776         How to speak so that people want to listen   \n",
       "201                                My stroke of insight   \n",
       "5                                  Why we do what we do   \n",
       "2114  This is what happens when you reply to spam email   \n",
       "1416  Looks aren't everything. Believe me, I'm a model.   \n",
       "\n",
       "                                                    url     views   dis_quo  \\\n",
       "0     https://www.ted.com/talks/ken_robinson_says_sc...  47227110  0.000096   \n",
       "1346  https://www.ted.com/talks/amy_cuddy_your_body_...  43155405  0.000053   \n",
       "677   https://www.ted.com/talks/simon_sinek_how_grea...  34309432  0.000056   \n",
       "837   https://www.ted.com/talks/brene_brown_on_vulne...  31168150  0.000062   \n",
       "452   https://www.ted.com/talks/mary_roach_10_things...  22270883  0.000016   \n",
       "1776  https://www.ted.com/talks/julian_treasure_how_...  21594632  0.000014   \n",
       "201   https://www.ted.com/talks/jill_bolte_taylor_s_...  21190883  0.000136   \n",
       "5     https://www.ted.com/talks/tony_robbins_asks_wh...  20685401  0.000032   \n",
       "2114  https://www.ted.com/talks/james_veitch_this_is...  20475972  0.000007   \n",
       "1416  https://www.ted.com/talks/cameron_russell_look...  19787465  0.000043   \n",
       "\n",
       "      year  month  \n",
       "0     2006      6  \n",
       "1346  2012     10  \n",
       "677   2010      5  \n",
       "837   2010     12  \n",
       "452   2009      5  \n",
       "1776  2014      6  \n",
       "201   2008      3  \n",
       "5     2006      6  \n",
       "2114  2016      1  \n",
       "1416  2013      1  "
      ]
     },
     "execution_count": 106,
     "metadata": {},
     "output_type": "execute_result"
    }
   ],
   "source": [
    "#Start by investigating the most popular Ted Talks.\n",
    "\n",
    "Ted.sort_values('views',ascending=False).head(10)"
   ]
  },
  {
   "cell_type": "code",
   "execution_count": 97,
   "metadata": {},
   "outputs": [
    {
     "data": {
      "text/plain": [
       "count    2.550000e+03\n",
       "mean     1.698297e+06\n",
       "std      2.498479e+06\n",
       "min      5.044300e+04\n",
       "25%      7.557928e+05\n",
       "50%      1.124524e+06\n",
       "75%      1.700760e+06\n",
       "max      4.722711e+07\n",
       "Name: views, dtype: float64"
      ]
     },
     "execution_count": 97,
     "metadata": {},
     "output_type": "execute_result"
    }
   ],
   "source": [
    "#Test 1 \n",
    "#Investigate the relationship between the number of comments and views a talk gets - is there a relationship between views and comments\n",
    "#and does it contribute to making the video popular \n",
    "#Invesitage comments and views \n",
    "\n",
    "Ted['comments'].describe()\n",
    "\n",
    "#On average, there are 191.5 comments on every TED Talk. This proves people are highly interacting with TED talks-hence \n",
    "#task is how to use the platform intuitevly to generate maximum impact \n",
    "\n",
    "\n",
    "Ted['views'].describe()\n",
    "\n",
    "#The average number of views on TED Talks in 1.6 million. and the median number of views is 1.12 million. This suggests a very high average level of popularity of TED Talks\n"
   ]
  },
  {
   "cell_type": "code",
   "execution_count": 100,
   "metadata": {},
   "outputs": [
    {
     "data": {
      "text/plain": [
       "Text(0.5, 1.0, 'Views per Talk')"
      ]
     },
     "execution_count": 100,
     "metadata": {},
     "output_type": "execute_result"
    },
    {
     "data": {
      "image/png": "[encoded data removed]",
      "text/plain": [
       "<Figure size 432x288 with 1 Axes>"
      ]
     },
     "metadata": {
      "needs_background": "light"
     },
     "output_type": "display_data"
    }
   ],
   "source": [
    "#Check  correlation between views and comments as we are trying to analyse what makes a video get most views\n",
    "\n",
    "#Calculate Mean views\n",
    "views_mean = Ted['views'].mean()\n",
    "views_mean\n",
    "\n",
    "#Calculate Median views\n",
    "\n",
    "views_median = Ted['views'].median()\n",
    "views_median\n",
    "\n",
    "#Calculate Standard distribution views\n",
    "views_std = Ted['views'].std()\n",
    "views_std\n",
    "\n",
    "\n",
    "#Check distribution of views using graph\n",
    "plt.plot(Ted.views)\n",
    "plt.title(\"Views per Talk\")"
   ]
  },
  {
   "cell_type": "code",
   "execution_count": 11,
   "metadata": {},
   "outputs": [
    {
     "data": {
      "text/plain": [
       "Text(0.5, 1.0, 'Comments per Talk')"
      ]
     },
     "execution_count": 11,
     "metadata": {},
     "output_type": "execute_result"
    },
    {
     "data": {
      "image/png": "[encoded data removed]",
      "text/plain": [
       "<Figure size 432x288 with 1 Axes>"
      ]
     },
     "metadata": {
      "needs_background": "light"
     },
     "output_type": "display_data"
    }
   ],
   "source": [
    "#Repeat same tests for 'comments'\n",
    "#Calculate the mean\n",
    "comment_mean = Ted['comments'].mean()\n",
    "comment_mean\n",
    "\n",
    "#Calculate the median\n",
    "comment_median = Ted['comments'].median() \n",
    "comment_median\n",
    "\n",
    "\n",
    "#Calculate standard deviation\n",
    "comment_std = Ted['comments'].std()\n",
    "comment_std\n",
    "\n",
    "comment_cv = comment_std / comment_mean\n",
    "comment_cv\n",
    "\n",
    "#Check distribution using graph\n",
    "plt.plot(Ted.views)\n",
    "plt.title(\"Comments per Talk\")"
   ]
  },
  {
   "cell_type": "code",
   "execution_count": null,
   "metadata": {},
   "outputs": [],
   "source": [
    "#Check correlation between views and comments\n",
    "Ted[['views', 'comments']].corr()"
   ]
  },
  {
   "cell_type": "code",
   "execution_count": 25,
   "metadata": {},
   "outputs": [
    {
     "data": {
      "image/png": "[encoded data removed]",
      "text/plain": [
       "<Figure size 432x288 with 1 Axes>"
      ]
     },
     "metadata": {
      "needs_background": "light"
     },
     "output_type": "display_data"
    }
   ],
   "source": [
    "#Visually show correlation on scatterplot\n",
    "\n",
    "fig, ax1 = plt.subplots()\n",
    "x = [Ted['views']];\n",
    "y = [Ted['comments']]\n",
    "ax1.plot(x, y, 'bo')\n",
    "plt.show()\n",
    "\n"
   ]
  },
  {
   "cell_type": "code",
   "execution_count": null,
   "metadata": {},
   "outputs": [],
   "source": [
    "#Conclusion: There is a relationship between views and comments correlation: 0.530939 this suggest that views and comments are related\n",
    "#however more noteably the investigation into views and comments has proven TED talks generate big impact so if used  effectively\n",
    "# a TED talk can interact and influence a large majority of the population "
   ]
  },
  {
   "cell_type": "code",
   "execution_count": 98,
   "metadata": {},
   "outputs": [
    {
     "data": {
      "text/plain": [
       "count    2550.000000\n",
       "mean       27.326275\n",
       "std         9.563452\n",
       "min         0.000000\n",
       "25%        23.000000\n",
       "50%        28.000000\n",
       "75%        33.000000\n",
       "max        72.000000\n",
       "Name: languages, dtype: float64"
      ]
     },
     "execution_count": 98,
     "metadata": {},
     "output_type": "execute_result"
    }
   ],
   "source": [
    "#Check most popular talks # Therefore we must answer what makes a talk popular?\n",
    "#Test 2: What Impact does language have on views? Does the more languages you convert a talk to imapct the amount of views\n",
    "\n",
    "Ted.sort_values('views',ascending=False).head(10)\n",
    "Ted['languages'].describe()\n",
    "#On average, a TED Talk is available in 27 different languages. The maximum number of languages a TED Talk is available is 72."
   ]
  },
  {
   "cell_type": "code",
   "execution_count": 99,
   "metadata": {},
   "outputs": [
    {
     "data": {
      "text/html": [
       "<div>\n",
       "<style scoped>\n",
       "    .dataframe tbody tr th:only-of-type {\n",
       "        vertical-align: middle;\n",
       "    }\n",
       "\n",
       "    .dataframe tbody tr th {\n",
       "        vertical-align: top;\n",
       "    }\n",
       "\n",
       "    .dataframe thead th {\n",
       "        text-align: right;\n",
       "    }\n",
       "</style>\n",
       "<table border=\"1\" class=\"dataframe\">\n",
       "  <thead>\n",
       "    <tr style=\"text-align: right;\">\n",
       "      <th></th>\n",
       "      <th>Unnamed: 0</th>\n",
       "      <th>comments</th>\n",
       "      <th>description</th>\n",
       "      <th>duration</th>\n",
       "      <th>event</th>\n",
       "      <th>film_date</th>\n",
       "      <th>languages</th>\n",
       "      <th>main_speaker</th>\n",
       "      <th>name</th>\n",
       "      <th>num_speaker</th>\n",
       "      <th>published_date</th>\n",
       "      <th>speaker_occupation</th>\n",
       "      <th>title</th>\n",
       "      <th>url</th>\n",
       "      <th>views</th>\n",
       "      <th>dis_quo</th>\n",
       "      <th>year</th>\n",
       "      <th>month</th>\n",
       "    </tr>\n",
       "  </thead>\n",
       "  <tbody>\n",
       "    <tr>\n",
       "      <th>973</th>\n",
       "      <td>974</td>\n",
       "      <td>736</td>\n",
       "      <td>Is there something you've always meant to do, ...</td>\n",
       "      <td>207</td>\n",
       "      <td>TED2011</td>\n",
       "      <td>2011-03-03</td>\n",
       "      <td>72</td>\n",
       "      <td>Matt Cutts</td>\n",
       "      <td>Matt Cutts: Try something new for 30 days</td>\n",
       "      <td>1</td>\n",
       "      <td>2011-07-01 15:14:00</td>\n",
       "      <td>Technologist</td>\n",
       "      <td>Try something new for 30 days</td>\n",
       "      <td>https://www.ted.com/talks/matt_cutts_try_somet...</td>\n",
       "      <td>8838874</td>\n",
       "      <td>0.000083</td>\n",
       "      <td>2011</td>\n",
       "      <td>7</td>\n",
       "    </tr>\n",
       "  </tbody>\n",
       "</table>\n",
       "</div>"
      ],
      "text/plain": [
       "     Unnamed: 0  comments                                        description  \\\n",
       "973         974       736  Is there something you've always meant to do, ...   \n",
       "\n",
       "     duration    event  film_date  languages main_speaker  \\\n",
       "973       207  TED2011 2011-03-03         72   Matt Cutts   \n",
       "\n",
       "                                          name  num_speaker  \\\n",
       "973  Matt Cutts: Try something new for 30 days            1   \n",
       "\n",
       "         published_date speaker_occupation                          title  \\\n",
       "973 2011-07-01 15:14:00       Technologist  Try something new for 30 days   \n",
       "\n",
       "                                                   url    views   dis_quo  \\\n",
       "973  https://www.ted.com/talks/matt_cutts_try_somet...  8838874  0.000083   \n",
       "\n",
       "     year  month  \n",
       "973  2011      7  "
      ]
     },
     "execution_count": 99,
     "metadata": {},
     "output_type": "execute_result"
    }
   ],
   "source": [
    "#Check the talk which has been translated into the most languages \n",
    "\n",
    "Ted[Ted['languages'] == 72]\n",
    "# This talk has been viewed 8,838,874 times which is above the average 1698297.4815686275 \n"
   ]
  },
  {
   "cell_type": "code",
   "execution_count": 105,
   "metadata": {},
   "outputs": [
    {
     "data": {
      "text/html": [
       "<div>\n",
       "<style scoped>\n",
       "    .dataframe tbody tr th:only-of-type {\n",
       "        vertical-align: middle;\n",
       "    }\n",
       "\n",
       "    .dataframe tbody tr th {\n",
       "        vertical-align: top;\n",
       "    }\n",
       "\n",
       "    .dataframe thead th {\n",
       "        text-align: right;\n",
       "    }\n",
       "</style>\n",
       "<table border=\"1\" class=\"dataframe\">\n",
       "  <thead>\n",
       "    <tr style=\"text-align: right;\">\n",
       "      <th></th>\n",
       "      <th>views</th>\n",
       "      <th>languages</th>\n",
       "    </tr>\n",
       "  </thead>\n",
       "  <tbody>\n",
       "    <tr>\n",
       "      <th>views</th>\n",
       "      <td>1.000000</td>\n",
       "      <td>0.377623</td>\n",
       "    </tr>\n",
       "    <tr>\n",
       "      <th>languages</th>\n",
       "      <td>0.377623</td>\n",
       "      <td>1.000000</td>\n",
       "    </tr>\n",
       "  </tbody>\n",
       "</table>\n",
       "</div>"
      ],
      "text/plain": [
       "              views  languages\n",
       "views      1.000000   0.377623\n",
       "languages  0.377623   1.000000"
      ]
     },
     "execution_count": 105,
     "metadata": {},
     "output_type": "execute_result"
    }
   ],
   "source": [
    "#Test Correlation of the below \n",
    "Ted[['views', 'languages']].corr()"
   ]
  },
  {
   "cell_type": "code",
   "execution_count": 104,
   "metadata": {},
   "outputs": [
    {
     "data": {
      "image/png": "[encoded data removed]",
      "text/plain": [
       "<Figure size 432x288 with 1 Axes>"
      ]
     },
     "metadata": {
      "needs_background": "light"
     },
     "output_type": "display_data"
    }
   ],
   "source": [
    "#Graphical Representation of views and languages\n",
    "\n",
    "fig, ax1 = plt.subplots()\n",
    "x = [Ted['views']];\n",
    "y = [Ted['languages']]\n",
    "ax1.plot(x, y, 'bo')\n",
    "plt.show()"
   ]
  },
  {
   "cell_type": "code",
   "execution_count": 107,
   "metadata": {},
   "outputs": [
    {
     "data": {
      "text/plain": [
       "<seaborn.axisgrid.JointGrid at 0x260fd4d8>"
      ]
     },
     "execution_count": 107,
     "metadata": {},
     "output_type": "execute_result"
    },
    {
     "data": {
      "image/png": "[encoded data removed]",
      "text/plain": [
       "<Figure size 432x432 with 3 Axes>"
      ]
     },
     "metadata": {
      "needs_background": "light"
     },
     "output_type": "display_data"
    }
   ],
   "source": [
    "#Does number of views increase based on number of languages ?\n",
    "#Joint Plot\n",
    "\n",
    "sns.jointplot(x=Ted['languages'], y=Ted['views'], kind='reg')"
   ]
  },
  {
   "cell_type": "code",
   "execution_count": 108,
   "metadata": {},
   "outputs": [
    {
     "data": {
      "text/plain": [
       "<seaborn.axisgrid.JointGrid at 0x2540ed00>"
      ]
     },
     "execution_count": 108,
     "metadata": {},
     "output_type": "execute_result"
    },
    {
     "data": {
      "image/png": "[encoded data removed]",
      "text/plain": [
       "<Figure size 432x432 with 3 Axes>"
      ]
     },
     "metadata": {
      "needs_background": "light"
     },
     "output_type": "display_data"
    }
   ],
   "source": [
    "#Does number of languages generate more comments and potentially more views\n",
    "sns.jointplot(x=Ted['languages'], y=Ted['comments'], kind='reg')"
   ]
  },
  {
   "cell_type": "code",
   "execution_count": null,
   "metadata": {},
   "outputs": [],
   "source": [
    " #Conclusion there is a strong relationship between languages and views the more languages you translate your Talk to the larger amount of views it will get "
   ]
  },
  {
   "cell_type": "code",
   "execution_count": 14,
   "metadata": {},
   "outputs": [
    {
     "data": {
      "text/html": [
       "<div>\n",
       "<style scoped>\n",
       "    .dataframe tbody tr th:only-of-type {\n",
       "        vertical-align: middle;\n",
       "    }\n",
       "\n",
       "    .dataframe tbody tr th {\n",
       "        vertical-align: top;\n",
       "    }\n",
       "\n",
       "    .dataframe thead th {\n",
       "        text-align: right;\n",
       "    }\n",
       "</style>\n",
       "<table border=\"1\" class=\"dataframe\">\n",
       "  <thead>\n",
       "    <tr style=\"text-align: right;\">\n",
       "      <th></th>\n",
       "      <th>title</th>\n",
       "      <th>main_speaker</th>\n",
       "      <th>views</th>\n",
       "      <th>comments</th>\n",
       "      <th>dis_quo</th>\n",
       "      <th>film_date</th>\n",
       "    </tr>\n",
       "  </thead>\n",
       "  <tbody>\n",
       "    <tr>\n",
       "      <th>744</th>\n",
       "      <td>The case for same-sex marriage</td>\n",
       "      <td>Diane J. Savino</td>\n",
       "      <td>292395</td>\n",
       "      <td>649</td>\n",
       "      <td>0.002220</td>\n",
       "      <td>1259712000</td>\n",
       "    </tr>\n",
       "    <tr>\n",
       "      <th>803</th>\n",
       "      <td>E-voting without fraud</td>\n",
       "      <td>David Bismark</td>\n",
       "      <td>543551</td>\n",
       "      <td>834</td>\n",
       "      <td>0.001534</td>\n",
       "      <td>1279065600</td>\n",
       "    </tr>\n",
       "    <tr>\n",
       "      <th>96</th>\n",
       "      <td>Militant atheism</td>\n",
       "      <td>Richard Dawkins</td>\n",
       "      <td>4374792</td>\n",
       "      <td>6404</td>\n",
       "      <td>0.001464</td>\n",
       "      <td>1012608000</td>\n",
       "    </tr>\n",
       "    <tr>\n",
       "      <th>694</th>\n",
       "      <td>Inside a school for suicide bombers</td>\n",
       "      <td>Sharmeen Obaid-Chinoy</td>\n",
       "      <td>1057238</td>\n",
       "      <td>1502</td>\n",
       "      <td>0.001421</td>\n",
       "      <td>1265760000</td>\n",
       "    </tr>\n",
       "    <tr>\n",
       "      <th>954</th>\n",
       "      <td>Taking imagination seriously</td>\n",
       "      <td>Janet Echelman</td>\n",
       "      <td>1832930</td>\n",
       "      <td>2492</td>\n",
       "      <td>0.001360</td>\n",
       "      <td>1299110400</td>\n",
       "    </tr>\n",
       "    <tr>\n",
       "      <th>840</th>\n",
       "      <td>On reading the Koran</td>\n",
       "      <td>Lesley Hazleton</td>\n",
       "      <td>1847256</td>\n",
       "      <td>2374</td>\n",
       "      <td>0.001285</td>\n",
       "      <td>1286668800</td>\n",
       "    </tr>\n",
       "    <tr>\n",
       "      <th>876</th>\n",
       "      <td>Curating humanity's heritage</td>\n",
       "      <td>Elizabeth Lindsey</td>\n",
       "      <td>439180</td>\n",
       "      <td>555</td>\n",
       "      <td>0.001264</td>\n",
       "      <td>1291766400</td>\n",
       "    </tr>\n",
       "    <tr>\n",
       "      <th>1787</th>\n",
       "      <td>How do you explain consciousness?</td>\n",
       "      <td>David Chalmers</td>\n",
       "      <td>2162764</td>\n",
       "      <td>2673</td>\n",
       "      <td>0.001236</td>\n",
       "      <td>1395100800</td>\n",
       "    </tr>\n",
       "    <tr>\n",
       "      <th>661</th>\n",
       "      <td>The danger of science denial</td>\n",
       "      <td>Michael Specter</td>\n",
       "      <td>1838628</td>\n",
       "      <td>2272</td>\n",
       "      <td>0.001236</td>\n",
       "      <td>1265846400</td>\n",
       "    </tr>\n",
       "    <tr>\n",
       "      <th>561</th>\n",
       "      <td>Dance to change the world</td>\n",
       "      <td>Mallika Sarabhai</td>\n",
       "      <td>481834</td>\n",
       "      <td>595</td>\n",
       "      <td>0.001235</td>\n",
       "      <td>1257292800</td>\n",
       "    </tr>\n",
       "  </tbody>\n",
       "</table>\n",
       "</div>"
      ],
      "text/plain": [
       "                                    title           main_speaker    views  \\\n",
       "744        The case for same-sex marriage        Diane J. Savino   292395   \n",
       "803                E-voting without fraud          David Bismark   543551   \n",
       "96                       Militant atheism        Richard Dawkins  4374792   \n",
       "694   Inside a school for suicide bombers  Sharmeen Obaid-Chinoy  1057238   \n",
       "954          Taking imagination seriously         Janet Echelman  1832930   \n",
       "840                  On reading the Koran        Lesley Hazleton  1847256   \n",
       "876          Curating humanity's heritage      Elizabeth Lindsey   439180   \n",
       "1787    How do you explain consciousness?         David Chalmers  2162764   \n",
       "661          The danger of science denial        Michael Specter  1838628   \n",
       "561             Dance to change the world       Mallika Sarabhai   481834   \n",
       "\n",
       "      comments   dis_quo   film_date  \n",
       "744        649  0.002220  1259712000  \n",
       "803        834  0.001534  1279065600  \n",
       "96        6404  0.001464  1012608000  \n",
       "694       1502  0.001421  1265760000  \n",
       "954       2492  0.001360  1299110400  \n",
       "840       2374  0.001285  1286668800  \n",
       "876        555  0.001264  1291766400  \n",
       "1787      2673  0.001236  1395100800  \n",
       "661       2272  0.001236  1265846400  \n",
       "561        595  0.001235  1257292800  "
      ]
     },
     "execution_count": 14,
     "metadata": {},
     "output_type": "execute_result"
    }
   ],
   "source": [
    "#Test 3: Does the subject matter determine the reach of the Talk? \n",
    "#We will look at the ratio of comments to views\n",
    "\n",
    "Ted['dis_quo'] = Ted['comments']/Ted['views']\n",
    "\n",
    "#Half of the talks in the top 10 are on the lines of Faith and Religion. It can be assumed that suject matter has an impact on views.\n",
    "\n",
    "Ted[['title', 'main_speaker','views', 'comments', 'dis_quo', 'film_date']].sort_values('dis_quo', ascending=False).head(10)\n"
   ]
  },
  {
   "cell_type": "code",
   "execution_count": 126,
   "metadata": {},
   "outputs": [
    {
     "data": {
      "image/png": "[encoded data removed]",
      "text/plain": [
       "<Figure size 1080x360 with 1 Axes>"
      ]
     },
     "metadata": {
      "needs_background": "light"
     },
     "output_type": "display_data"
    }
   ],
   "source": [
    "#When we look at description length, it is harder to see a direct correlation. But a more detailed description ( higher description lengths) results in more views.\n",
    "\n",
    "Ted['description_len']=Ted['description'].apply(lambda x: len(x))\n",
    "plt.figure(figsize=(15,5))\n",
    "sns.barplot(x='views', y='description_len', data=Ted)\n",
    "plt.show()"
   ]
  },
  {
   "cell_type": "code",
   "execution_count": 128,
   "metadata": {},
   "outputs": [
    {
     "data": {
      "text/plain": [
       "0             children\n",
       "1           creativity\n",
       "2              culture\n",
       "3                dance\n",
       "4            education\n",
       "             ...      \n",
       "19149             play\n",
       "19150     publicspaces\n",
       "19151          society\n",
       "19152         software\n",
       "19153    urbanplanning\n",
       "Name: tags, Length: 19154, dtype: object"
      ]
     },
     "execution_count": 128,
     "metadata": {},
     "output_type": "execute_result"
    }
   ],
   "source": [
    "#Analyse the tags used for Ted Talks\n",
    "Tags['tags']"
   ]
  },
  {
   "cell_type": "code",
   "execution_count": 16,
   "metadata": {},
   "outputs": [],
   "source": [
    "#Test 4 Investigate the most popular month for uploading Ted talks\n",
    "#change film_date and publish_date to correct date format to allow us to analyse this\n",
    "\n",
    "import datetime\n",
    "Ted['film_date'] = Ted['film_date'].apply(lambda x: datetime.datetime.fromtimestamp( int(x)).strftime('%d-%m-%Y'))\n",
    "Ted['published_date'] = Ted['published_date'].apply(lambda x: datetime.datetime.fromtimestamp( int(x)).strftime('%d-%m-%Y'))"
   ]
  },
  {
   "cell_type": "code",
   "execution_count": 23,
   "metadata": {},
   "outputs": [
    {
     "data": {
      "text/plain": [
       "<AxesSubplot:xlabel='month', ylabel='talks'>"
      ]
     },
     "execution_count": 23,
     "metadata": {},
     "output_type": "execute_result"
    },
    {
     "data": {
      "image/png": "[encoded data removed]",
      "text/plain": [
       "<Figure size 432x288 with 1 Axes>"
      ]
     },
     "metadata": {
      "needs_background": "light"
     },
     "output_type": "display_data"
    }
   ],
   "source": [
    "#Investigate most popular months for TED TALK \n",
    "#Create list month_order for months of the year\n",
    "#Create list day_order to store days of week \n",
    "\n",
    "month_order = ['Jan', 'Feb', 'Mar', 'Apr', 'May', 'Jun', 'Jul', 'Aug', 'Sep', 'Oct', 'Nov', 'Dec']\n",
    "day_order = ['Mon', 'Tue', 'Wed', 'Thu', 'Fri', 'Sat', 'Sun']\n",
    "\n",
    "\n",
    "Ted['month'] = Ted['film_date'].apply(lambda x: month_order[int(x.split('-')[1]) - 1])\n",
    "\n",
    "\n",
    "\n",
    "month_Ted = pd.DataFrame(Ted['month'].value_counts()).reset_index()\n",
    "month_Ted.columns = ['month', 'talks']\n",
    "\n",
    "\n",
    "#Bar plot investigating the relationship between months and talks \n",
    "\n",
    "sns.barplot(x='month', y='talks', data=month_Ted, order=month_order)"
   ]
  },
  {
   "cell_type": "code",
   "execution_count": null,
   "metadata": {},
   "outputs": [],
   "source": [
    "#Conclusion February is  the most popular month for TED Conferences whereas  January are the least popular."
   ]
  },
  {
   "cell_type": "code",
   "execution_count": 24,
   "metadata": {},
   "outputs": [],
   "source": [
    "#Recheck most popular month for Ted X talks\n",
    "\n",
    "Ted_x = Ted[Ted['event'].str.contains('TEDx')]\n",
    "x_month_Ted = pd.DataFrame(Ted_x['month'].value_counts().reset_index())\n",
    "x_month_Ted.columns = ['month', 'talks']"
   ]
  },
  {
   "cell_type": "code",
   "execution_count": 25,
   "metadata": {},
   "outputs": [
    {
     "data": {
      "text/plain": [
       "<AxesSubplot:xlabel='month', ylabel='talks'>"
      ]
     },
     "execution_count": 25,
     "metadata": {},
     "output_type": "execute_result"
    },
    {
     "data": {
      "image/png": "[encoded data removed]",
      "text/plain": [
       "<Figure size 432x288 with 1 Axes>"
      ]
     },
     "metadata": {
      "needs_background": "light"
     },
     "output_type": "display_data"
    }
   ],
   "source": [
    "#Use bar plot to graphically represent \n",
    "sns.barplot(x='month', y='talks', data=x_month_Ted, order=month_order)"
   ]
  },
  {
   "cell_type": "code",
   "execution_count": null,
   "metadata": {},
   "outputs": [],
   "source": [
    "# November is most popular for Ted X talks "
   ]
  },
  {
   "cell_type": "code",
   "execution_count": 26,
   "metadata": {},
   "outputs": [],
   "source": [
    "#Now we know the most popular month we must investigate most popular day\n",
    "\n",
    "def getday(x):\n",
    "    day, month, year = (int(i) for i in x.split('-'))    \n",
    "    answer = datetime.date(year, month, day).weekday()\n",
    "    return day_order[answer]"
   ]
  },
  {
   "cell_type": "code",
   "execution_count": 27,
   "metadata": {},
   "outputs": [],
   "source": [
    "#use file_date column for this \n",
    "Ted['day'] = Ted['film_date'].apply(getday)"
   ]
  },
  {
   "cell_type": "code",
   "execution_count": 28,
   "metadata": {},
   "outputs": [],
   "source": [
    "#Check most popular day of the week \n",
    "day_Ted = pd.DataFrame(Ted['day'].value_counts()).reset_index()\n",
    "day_Ted.columns = ['day', 'talks']"
   ]
  },
  {
   "cell_type": "code",
   "execution_count": 29,
   "metadata": {},
   "outputs": [
    {
     "data": {
      "text/plain": [
       "<AxesSubplot:xlabel='day', ylabel='talks'>"
      ]
     },
     "execution_count": 29,
     "metadata": {},
     "output_type": "execute_result"
    },
    {
     "data": {
      "image/png": "[encoded data removed]",
      "text/plain": [
       "<Figure size 432x288 with 1 Axes>"
      ]
     },
     "metadata": {
      "needs_background": "light"
     },
     "output_type": "display_data"
    }
   ],
   "source": [
    "#Graphically represent days of week on bar chart\n",
    "sns.barplot(x='day', y='talks', data=day_Ted, order=day_order)"
   ]
  },
  {
   "cell_type": "code",
   "execution_count": null,
   "metadata": {},
   "outputs": [],
   "source": [
    "#Wednesday and Thursday being the most popular days and Sunday being the least popular.\n",
    "#Conclusion of Test 4 - the most popular time to upload a talk in the hope of generating max impact is on a Thursday (most pop day)\n",
    "#in Feburary (most popular month)"
   ]
  },
  {
   "cell_type": "code",
   "execution_count": 15,
   "metadata": {},
   "outputs": [
    {
     "data": {
      "text/html": [
       "<div>\n",
       "<style scoped>\n",
       "    .dataframe tbody tr th:only-of-type {\n",
       "        vertical-align: middle;\n",
       "    }\n",
       "\n",
       "    .dataframe tbody tr th {\n",
       "        vertical-align: top;\n",
       "    }\n",
       "\n",
       "    .dataframe thead th {\n",
       "        text-align: right;\n",
       "    }\n",
       "</style>\n",
       "<table border=\"1\" class=\"dataframe\">\n",
       "  <thead>\n",
       "    <tr style=\"text-align: right;\">\n",
       "      <th></th>\n",
       "      <th>main_speaker</th>\n",
       "      <th>appearances</th>\n",
       "    </tr>\n",
       "  </thead>\n",
       "  <tbody>\n",
       "    <tr>\n",
       "      <th>770</th>\n",
       "      <td>Hans Rosling</td>\n",
       "      <td>9</td>\n",
       "    </tr>\n",
       "    <tr>\n",
       "      <th>1066</th>\n",
       "      <td>Juan Enriquez</td>\n",
       "      <td>7</td>\n",
       "    </tr>\n",
       "    <tr>\n",
       "      <th>1693</th>\n",
       "      <td>Rives</td>\n",
       "      <td>6</td>\n",
       "    </tr>\n",
       "    <tr>\n",
       "      <th>1278</th>\n",
       "      <td>Marco Tempest</td>\n",
       "      <td>6</td>\n",
       "    </tr>\n",
       "    <tr>\n",
       "      <th>397</th>\n",
       "      <td>Clay Shirky</td>\n",
       "      <td>5</td>\n",
       "    </tr>\n",
       "    <tr>\n",
       "      <th>1487</th>\n",
       "      <td>Nicholas Negroponte</td>\n",
       "      <td>5</td>\n",
       "    </tr>\n",
       "    <tr>\n",
       "      <th>1075</th>\n",
       "      <td>Julian Treasure</td>\n",
       "      <td>5</td>\n",
       "    </tr>\n",
       "    <tr>\n",
       "      <th>424</th>\n",
       "      <td>Dan Ariely</td>\n",
       "      <td>5</td>\n",
       "    </tr>\n",
       "    <tr>\n",
       "      <th>850</th>\n",
       "      <td>Jacqueline Novogratz</td>\n",
       "      <td>5</td>\n",
       "    </tr>\n",
       "    <tr>\n",
       "      <th>248</th>\n",
       "      <td>Bill Gates</td>\n",
       "      <td>5</td>\n",
       "    </tr>\n",
       "  </tbody>\n",
       "</table>\n",
       "</div>"
      ],
      "text/plain": [
       "              main_speaker  appearances\n",
       "770           Hans Rosling            9\n",
       "1066         Juan Enriquez            7\n",
       "1693                 Rives            6\n",
       "1278         Marco Tempest            6\n",
       "397            Clay Shirky            5\n",
       "1487   Nicholas Negroponte            5\n",
       "1075       Julian Treasure            5\n",
       "424             Dan Ariely            5\n",
       "850   Jacqueline Novogratz            5\n",
       "248             Bill Gates            5"
      ]
     },
     "execution_count": 15,
     "metadata": {},
     "output_type": "execute_result"
    }
   ],
   "source": [
    "#Test 5 #Does speaker influence the success of a talk \n",
    "\n",
    "speaker = Ted.groupby('main_speaker').count().reset_index()[['main_speaker', 'comments']]\n",
    "speaker.columns = ['main_speaker', 'appearances']\n",
    "speaker = speaker.sort_values('appearances', ascending=False)\n",
    "speaker.head(10)"
   ]
  },
  {
   "cell_type": "code",
   "execution_count": 16,
   "metadata": {},
   "outputs": [],
   "source": [
    "#Hans Rosling, is  the most popular TED Speakers however we must investigate if occupation matters in relation to\n",
    "#who give ted talks\n",
    "#Does occupation for TED speakers matter? I.e do  speakers of some professions generate more views\n",
    "\n",
    "occupation_df = Ted.groupby('speaker_occupation').count().reset_index()[['speaker_occupation', 'comments']]\n",
    "occupation_df.columns = ['occupation', 'appearances']\n",
    "occupation_df = occupation_df.sort_values('appearances', ascending=False)\n"
   ]
  },
  {
   "cell_type": "code",
   "execution_count": 32,
   "metadata": {},
   "outputs": [
    {
     "data": {
      "image/png": "[encoded data removed]",
      "text/plain": [
       "<Figure size 1080x360 with 1 Axes>"
      ]
     },
     "metadata": {
      "needs_background": "light"
     },
     "output_type": "display_data"
    }
   ],
   "source": [
    "#Writer is the most popular\n",
    "\n",
    "plt.figure(figsize=(15,5))\n",
    "sns.barplot(x='occupation', y='appearances', data=occupation_df.head(10))\n",
    "plt.show()"
   ]
  },
  {
   "cell_type": "code",
   "execution_count": 33,
   "metadata": {},
   "outputs": [
    {
     "data": {
      "image/png": "[encoded data removed]",
      "text/plain": [
       "<Figure size 1080x576 with 1 Axes>"
      ]
     },
     "metadata": {
      "needs_background": "light"
     },
     "output_type": "display_data"
    }
   ],
   "source": [
    "#Do some occupations get more views than others?\n",
    "#Use below boxplot graphs to determine this \n",
    "\n",
    "fig, ax = plt.subplots(nrows=1, ncols=1,figsize=(15, 8))\n",
    "sns.boxplot(x='speaker_occupation', y='views', data=Ted[Ted['speaker_occupation'].isin(occupation_df.head(10)['occupation'])], palette=\"muted\", ax =ax)\n",
    "ax.set_ylim([0, 0.4e7])\n",
    "plt.show()"
   ]
  },
  {
   "cell_type": "code",
   "execution_count": null,
   "metadata": {},
   "outputs": [],
   "source": [
    "#Conclusion Test 5 Psychologists tend to get the most views. "
   ]
  },
  {
   "cell_type": "code",
   "execution_count": 40,
   "metadata": {},
   "outputs": [
    {
     "data": {
      "text/plain": [
       "count    2550.000000\n",
       "mean       13.775170\n",
       "std         6.233486\n",
       "min         2.250000\n",
       "25%         9.616667\n",
       "50%        14.133333\n",
       "75%        17.445833\n",
       "max        87.600000\n",
       "Name: duration, dtype: float64"
      ]
     },
     "execution_count": 40,
     "metadata": {},
     "output_type": "execute_result"
    }
   ],
   "source": [
    "#Test 6 Does the Duration of a Ted Talk Matter\n",
    "#Does duration of talk have an impact on views?\n",
    "\n",
    "Ted['duration'] = Ted['duration']/60\n",
    "Ted['duration'].describe()"
   ]
  },
  {
   "cell_type": "code",
   "execution_count": 41,
   "metadata": {},
   "outputs": [
    {
     "data": {
      "text/html": [
       "<div>\n",
       "<style scoped>\n",
       "    .dataframe tbody tr th:only-of-type {\n",
       "        vertical-align: middle;\n",
       "    }\n",
       "\n",
       "    .dataframe tbody tr th {\n",
       "        vertical-align: top;\n",
       "    }\n",
       "\n",
       "    .dataframe thead th {\n",
       "        text-align: right;\n",
       "    }\n",
       "</style>\n",
       "<table border=\"1\" class=\"dataframe\">\n",
       "  <thead>\n",
       "    <tr style=\"text-align: right;\">\n",
       "      <th></th>\n",
       "      <th>Unnamed: 0</th>\n",
       "      <th>comments</th>\n",
       "      <th>description</th>\n",
       "      <th>duration</th>\n",
       "      <th>event</th>\n",
       "      <th>film_date</th>\n",
       "      <th>languages</th>\n",
       "      <th>main_speaker</th>\n",
       "      <th>name</th>\n",
       "      <th>num_speaker</th>\n",
       "      <th>published_date</th>\n",
       "      <th>speaker_occupation</th>\n",
       "      <th>title</th>\n",
       "      <th>url</th>\n",
       "      <th>views</th>\n",
       "    </tr>\n",
       "  </thead>\n",
       "  <tbody>\n",
       "    <tr>\n",
       "      <th>239</th>\n",
       "      <td>240</td>\n",
       "      <td>76</td>\n",
       "      <td>After speaking at TED2007 on elegance in physi...</td>\n",
       "      <td>2.25</td>\n",
       "      <td>TED2007</td>\n",
       "      <td>1172880000</td>\n",
       "      <td>61</td>\n",
       "      <td>Murray Gell-Mann</td>\n",
       "      <td>Murray Gell-Mann: The ancestor of language</td>\n",
       "      <td>1</td>\n",
       "      <td>1213146000</td>\n",
       "      <td>Physicist</td>\n",
       "      <td>The ancestor of language</td>\n",
       "      <td>https://www.ted.com/talks/murray_gell_mann_on_...</td>\n",
       "      <td>785293</td>\n",
       "    </tr>\n",
       "  </tbody>\n",
       "</table>\n",
       "</div>"
      ],
      "text/plain": [
       "     Unnamed: 0  comments                                        description  \\\n",
       "239         240        76  After speaking at TED2007 on elegance in physi...   \n",
       "\n",
       "     duration    event   film_date  languages      main_speaker  \\\n",
       "239      2.25  TED2007  1172880000         61  Murray Gell-Mann   \n",
       "\n",
       "                                           name  num_speaker  published_date  \\\n",
       "239  Murray Gell-Mann: The ancestor of language            1      1213146000   \n",
       "\n",
       "    speaker_occupation                     title  \\\n",
       "239          Physicist  The ancestor of language   \n",
       "\n",
       "                                                   url   views  \n",
       "239  https://www.ted.com/talks/murray_gell_mann_on_...  785293  "
      ]
     },
     "execution_count": 41,
     "metadata": {},
     "output_type": "execute_result"
    }
   ],
   "source": [
    "#compare shortest and longest talk\n",
    "\n",
    "#shortest\n",
    "\n",
    "Ted[Ted['duration'] == 2.25]"
   ]
  },
  {
   "cell_type": "code",
   "execution_count": 42,
   "metadata": {},
   "outputs": [
    {
     "data": {
      "text/html": [
       "<div>\n",
       "<style scoped>\n",
       "    .dataframe tbody tr th:only-of-type {\n",
       "        vertical-align: middle;\n",
       "    }\n",
       "\n",
       "    .dataframe tbody tr th {\n",
       "        vertical-align: top;\n",
       "    }\n",
       "\n",
       "    .dataframe thead th {\n",
       "        text-align: right;\n",
       "    }\n",
       "</style>\n",
       "<table border=\"1\" class=\"dataframe\">\n",
       "  <thead>\n",
       "    <tr style=\"text-align: right;\">\n",
       "      <th></th>\n",
       "      <th>Unnamed: 0</th>\n",
       "      <th>comments</th>\n",
       "      <th>description</th>\n",
       "      <th>duration</th>\n",
       "      <th>event</th>\n",
       "      <th>film_date</th>\n",
       "      <th>languages</th>\n",
       "      <th>main_speaker</th>\n",
       "      <th>name</th>\n",
       "      <th>num_speaker</th>\n",
       "      <th>published_date</th>\n",
       "      <th>speaker_occupation</th>\n",
       "      <th>title</th>\n",
       "      <th>url</th>\n",
       "      <th>views</th>\n",
       "    </tr>\n",
       "  </thead>\n",
       "  <tbody>\n",
       "    <tr>\n",
       "      <th>640</th>\n",
       "      <td>641</td>\n",
       "      <td>101</td>\n",
       "      <td>Blind river dolphins, reclusive lemurs, a parr...</td>\n",
       "      <td>87.6</td>\n",
       "      <td>University of California</td>\n",
       "      <td>989971200</td>\n",
       "      <td>0</td>\n",
       "      <td>Douglas Adams</td>\n",
       "      <td>Douglas Adams: Parrots, the universe and every...</td>\n",
       "      <td>1</td>\n",
       "      <td>1268762040</td>\n",
       "      <td>Author, satirist</td>\n",
       "      <td>Parrots, the universe and everything</td>\n",
       "      <td>https://www.ted.com/talks/douglas_adams_parrot...</td>\n",
       "      <td>473220</td>\n",
       "    </tr>\n",
       "  </tbody>\n",
       "</table>\n",
       "</div>"
      ],
      "text/plain": [
       "     Unnamed: 0  comments                                        description  \\\n",
       "640         641       101  Blind river dolphins, reclusive lemurs, a parr...   \n",
       "\n",
       "     duration                     event  film_date  languages   main_speaker  \\\n",
       "640      87.6  University of California  989971200          0  Douglas Adams   \n",
       "\n",
       "                                                  name  num_speaker  \\\n",
       "640  Douglas Adams: Parrots, the universe and every...            1   \n",
       "\n",
       "     published_date speaker_occupation                                 title  \\\n",
       "640      1268762040   Author, satirist  Parrots, the universe and everything   \n",
       "\n",
       "                                                   url   views  \n",
       "640  https://www.ted.com/talks/douglas_adams_parrot...  473220  "
      ]
     },
     "execution_count": 42,
     "metadata": {},
     "output_type": "execute_result"
    }
   ],
   "source": [
    "#Longest talk\n",
    "Ted[Ted['duration'] == 87.6]"
   ]
  },
  {
   "cell_type": "code",
   "execution_count": 43,
   "metadata": {
    "scrolled": true
   },
   "outputs": [
    {
     "data": {
      "image/png": "[encoded data removed]",
      "text/plain": [
       "<Figure size 432x432 with 3 Axes>"
      ]
     },
     "metadata": {
      "needs_background": "light"
     },
     "output_type": "display_data"
    }
   ],
   "source": [
    "#Let us now check for any correlation between the popularity and the duration of a TED Talk\n",
    "\n",
    "sns.jointplot(x='duration', y='views', data=Ted[Ted['duration'] < 25])\n",
    "plt.xlabel('Duration')\n",
    "plt.ylabel('Views')\n",
    "plt.show()\n"
   ]
  },
  {
   "cell_type": "code",
   "execution_count": null,
   "metadata": {},
   "outputs": [],
   "source": [
    "#There doesnt appear to be a relationship between duration and number of views"
   ]
  },
  {
   "cell_type": "code",
   "execution_count": null,
   "metadata": {},
   "outputs": [],
   "source": [
    "#Conclusion \n",
    "#Summarise what contributes to a successful Ted Talk\n",
    "\n",
    "#Views - There is correlation between views and comments you must generate maximum impact by getting the most views. The following\n",
    "#will help to generate most views for a video \n",
    "\n",
    "#Day of week/month Talk is uploaded: The day the talk is held on is related to the amount of views the talk will get. \n",
    "#To get max impact the talk should be held in Feburary on a Thursday. The above analysis in Test 4 proves this. \n",
    "\n",
    "#Occupation of speaker\n",
    "#There is a difference in the amount of views talks get dependant on the occupation of speaker psychologists tend to get more views.\n",
    "#Test 5 shows the analysis for this\n",
    "\n",
    "#Duration of Talk\n",
    "#Duration of talk does not seem to imapct the views a talk generates\n",
    "\n",
    "#Topic of talk and Languages\n",
    "#The more languages a talk is translated to the mosre views that will be generated.\n",
    "\n",
    "#Final conclusion Based on Analysis \n",
    "\n",
    "#Based on The NGO should srcuture their talks in the following way \n",
    "#They should chose a  topic that has prvoen in the past to generate a large amount of views \n",
    "#eg religion and a speaker that is a psychologist. They should also translate the talk into as many languages as \n",
    "#possible to reach as wide audience as possible. The talk should be held on a Thursday in September and this should give the \n",
    "#NGO the maximum chance of generate the most views. \n",
    "\n",
    "\n"
   ]
  }
 ],
 "metadata": {
  "kernelspec": {
   "display_name": "Python 3",
   "language": "python",
   "name": "python3"
  },
  "language_info": {
   "codemirror_mode": {
    "name": "ipython",
    "version": 3
   },
   "file_extension": ".py",
   "mimetype": "text/x-python",
   "name": "python",
   "nbconvert_exporter": "python",
   "pygments_lexer": "ipython3",
   "version": "3.8.5"
  }
 },
 "nbformat": 4,
 "nbformat_minor": 4
}
